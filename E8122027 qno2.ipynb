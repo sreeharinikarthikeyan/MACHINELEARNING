{
 "cells": [
  {
   "cell_type": "markdown",
   "id": "50978d43",
   "metadata": {},
   "source": [
    "2. A hospital wants to develop a model to predict the severity of a patient's condition\n",
    "upon admission. The hospital has data on patients' demographics, medical history,\n",
    "and vital signs at admission. The hospital would like to use this information to\n",
    "predict whether the patient's condition is mild, moderate, or severe."
   ]
  },
  {
   "cell_type": "code",
   "execution_count": 1,
   "id": "ddbdf0ab",
   "metadata": {},
   "outputs": [],
   "source": [
    "import pandas as pd\n",
    "import numpy as np\n",
    "ph=pd.read_csv(\"C:\\\\Users\\\\Sree Harini\\\\Downloads\\\\patient_data.csv\")"
   ]
  },
  {
   "cell_type": "code",
   "execution_count": 2,
   "id": "cde692e2",
   "metadata": {},
   "outputs": [
    {
     "name": "stdout",
     "output_type": "stream",
     "text": [
      "<class 'pandas.core.frame.DataFrame'>\n",
      "RangeIndex: 22 entries, 0 to 21\n",
      "Data columns (total 14 columns):\n",
      " #   Column                      Non-Null Count  Dtype \n",
      "---  ------                      --------------  ----- \n",
      " 0   Age                         22 non-null     int64 \n",
      " 1   Gender                      22 non-null     object\n",
      " 2   Ethnicity                   22 non-null     object\n",
      " 3   BMI                         22 non-null     int64 \n",
      " 4   Blood Pressure (systolic)   22 non-null     int64 \n",
      " 5   Blood Pressure (diastolic)  22 non-null     int64 \n",
      " 6   Heart Rate                  22 non-null     int64 \n",
      " 7   Respiratory Rate            22 non-null     int64 \n",
      " 8   Oxygen Saturation Level     22 non-null     int64 \n",
      " 9   Chronic Conditions          22 non-null     object\n",
      " 10  Medications                 22 non-null     object\n",
      " 11  Lab Test Results            22 non-null     object\n",
      " 12  Chief Complaint             22 non-null     object\n",
      " 13  Severity                    22 non-null     object\n",
      "dtypes: int64(7), object(7)\n",
      "memory usage: 2.5+ KB\n"
     ]
    }
   ],
   "source": [
    "ph.info()"
   ]
  },
  {
   "cell_type": "code",
   "execution_count": 3,
   "id": "2f58ca90",
   "metadata": {},
   "outputs": [],
   "source": [
    "ph.columns=ph.columns.str.replace(' ','_')"
   ]
  },
  {
   "cell_type": "code",
   "execution_count": 4,
   "id": "0049ee9e",
   "metadata": {},
   "outputs": [
    {
     "data": {
      "text/plain": [
       "Index(['Age', 'Gender', 'Ethnicity', 'BMI', 'Blood_Pressure_(systolic)',\n",
       "       'Blood_Pressure_(diastolic)', 'Heart_Rate', 'Respiratory_Rate',\n",
       "       'Oxygen_Saturation_Level', 'Chronic_Conditions', 'Medications',\n",
       "       'Lab_Test_Results', 'Chief_Complaint', 'Severity'],\n",
       "      dtype='object')"
      ]
     },
     "execution_count": 4,
     "metadata": {},
     "output_type": "execute_result"
    }
   ],
   "source": [
    "ph.columns"
   ]
  },
  {
   "cell_type": "code",
   "execution_count": 5,
   "id": "e206e24e",
   "metadata": {},
   "outputs": [
    {
     "data": {
      "text/html": [
       "<div>\n",
       "<style scoped>\n",
       "    .dataframe tbody tr th:only-of-type {\n",
       "        vertical-align: middle;\n",
       "    }\n",
       "\n",
       "    .dataframe tbody tr th {\n",
       "        vertical-align: top;\n",
       "    }\n",
       "\n",
       "    .dataframe thead th {\n",
       "        text-align: right;\n",
       "    }\n",
       "</style>\n",
       "<table border=\"1\" class=\"dataframe\">\n",
       "  <thead>\n",
       "    <tr style=\"text-align: right;\">\n",
       "      <th></th>\n",
       "      <th>Age</th>\n",
       "      <th>BMI</th>\n",
       "      <th>Blood_Pressure_(systolic)</th>\n",
       "      <th>Blood_Pressure_(diastolic)</th>\n",
       "      <th>Heart_Rate</th>\n",
       "      <th>Respiratory_Rate</th>\n",
       "      <th>Oxygen_Saturation_Level</th>\n",
       "    </tr>\n",
       "  </thead>\n",
       "  <tbody>\n",
       "    <tr>\n",
       "      <th>count</th>\n",
       "      <td>22.000000</td>\n",
       "      <td>22.000000</td>\n",
       "      <td>22.000000</td>\n",
       "      <td>22.000000</td>\n",
       "      <td>22.000000</td>\n",
       "      <td>22.000000</td>\n",
       "      <td>22.000000</td>\n",
       "    </tr>\n",
       "    <tr>\n",
       "      <th>mean</th>\n",
       "      <td>48.272727</td>\n",
       "      <td>27.863636</td>\n",
       "      <td>133.909091</td>\n",
       "      <td>88.181818</td>\n",
       "      <td>78.272727</td>\n",
       "      <td>16.909091</td>\n",
       "      <td>95.090909</td>\n",
       "    </tr>\n",
       "    <tr>\n",
       "      <th>std</th>\n",
       "      <td>14.528074</td>\n",
       "      <td>3.870468</td>\n",
       "      <td>14.857767</td>\n",
       "      <td>9.515083</td>\n",
       "      <td>6.048863</td>\n",
       "      <td>2.113654</td>\n",
       "      <td>2.505405</td>\n",
       "    </tr>\n",
       "    <tr>\n",
       "      <th>min</th>\n",
       "      <td>27.000000</td>\n",
       "      <td>22.000000</td>\n",
       "      <td>110.000000</td>\n",
       "      <td>72.000000</td>\n",
       "      <td>70.000000</td>\n",
       "      <td>14.000000</td>\n",
       "      <td>90.000000</td>\n",
       "    </tr>\n",
       "    <tr>\n",
       "      <th>25%</th>\n",
       "      <td>36.250000</td>\n",
       "      <td>25.250000</td>\n",
       "      <td>121.250000</td>\n",
       "      <td>80.000000</td>\n",
       "      <td>75.000000</td>\n",
       "      <td>16.000000</td>\n",
       "      <td>94.000000</td>\n",
       "    </tr>\n",
       "    <tr>\n",
       "      <th>50%</th>\n",
       "      <td>46.500000</td>\n",
       "      <td>27.500000</td>\n",
       "      <td>132.500000</td>\n",
       "      <td>87.500000</td>\n",
       "      <td>78.500000</td>\n",
       "      <td>16.000000</td>\n",
       "      <td>96.000000</td>\n",
       "    </tr>\n",
       "    <tr>\n",
       "      <th>75%</th>\n",
       "      <td>58.000000</td>\n",
       "      <td>30.750000</td>\n",
       "      <td>141.500000</td>\n",
       "      <td>94.750000</td>\n",
       "      <td>80.000000</td>\n",
       "      <td>18.000000</td>\n",
       "      <td>97.000000</td>\n",
       "    </tr>\n",
       "    <tr>\n",
       "      <th>max</th>\n",
       "      <td>75.000000</td>\n",
       "      <td>35.000000</td>\n",
       "      <td>170.000000</td>\n",
       "      <td>110.000000</td>\n",
       "      <td>90.000000</td>\n",
       "      <td>20.000000</td>\n",
       "      <td>98.000000</td>\n",
       "    </tr>\n",
       "  </tbody>\n",
       "</table>\n",
       "</div>"
      ],
      "text/plain": [
       "             Age        BMI  Blood_Pressure_(systolic)  \\\n",
       "count  22.000000  22.000000                  22.000000   \n",
       "mean   48.272727  27.863636                 133.909091   \n",
       "std    14.528074   3.870468                  14.857767   \n",
       "min    27.000000  22.000000                 110.000000   \n",
       "25%    36.250000  25.250000                 121.250000   \n",
       "50%    46.500000  27.500000                 132.500000   \n",
       "75%    58.000000  30.750000                 141.500000   \n",
       "max    75.000000  35.000000                 170.000000   \n",
       "\n",
       "       Blood_Pressure_(diastolic)  Heart_Rate  Respiratory_Rate  \\\n",
       "count                   22.000000   22.000000         22.000000   \n",
       "mean                    88.181818   78.272727         16.909091   \n",
       "std                      9.515083    6.048863          2.113654   \n",
       "min                     72.000000   70.000000         14.000000   \n",
       "25%                     80.000000   75.000000         16.000000   \n",
       "50%                     87.500000   78.500000         16.000000   \n",
       "75%                     94.750000   80.000000         18.000000   \n",
       "max                    110.000000   90.000000         20.000000   \n",
       "\n",
       "       Oxygen_Saturation_Level  \n",
       "count                22.000000  \n",
       "mean                 95.090909  \n",
       "std                   2.505405  \n",
       "min                  90.000000  \n",
       "25%                  94.000000  \n",
       "50%                  96.000000  \n",
       "75%                  97.000000  \n",
       "max                  98.000000  "
      ]
     },
     "execution_count": 5,
     "metadata": {},
     "output_type": "execute_result"
    }
   ],
   "source": [
    "ph.describe()"
   ]
  },
  {
   "cell_type": "code",
   "execution_count": 6,
   "id": "049a3b64",
   "metadata": {},
   "outputs": [],
   "source": [
    "ph1=ph.select_dtypes(exclude=['object'])"
   ]
  },
  {
   "cell_type": "code",
   "execution_count": 7,
   "id": "afeccd00",
   "metadata": {},
   "outputs": [
    {
     "name": "stdout",
     "output_type": "stream",
     "text": [
      "<class 'pandas.core.frame.DataFrame'>\n",
      "RangeIndex: 22 entries, 0 to 21\n",
      "Data columns (total 7 columns):\n",
      " #   Column                      Non-Null Count  Dtype\n",
      "---  ------                      --------------  -----\n",
      " 0   Age                         22 non-null     int64\n",
      " 1   BMI                         22 non-null     int64\n",
      " 2   Blood_Pressure_(systolic)   22 non-null     int64\n",
      " 3   Blood_Pressure_(diastolic)  22 non-null     int64\n",
      " 4   Heart_Rate                  22 non-null     int64\n",
      " 5   Respiratory_Rate            22 non-null     int64\n",
      " 6   Oxygen_Saturation_Level     22 non-null     int64\n",
      "dtypes: int64(7)\n",
      "memory usage: 1.3 KB\n"
     ]
    }
   ],
   "source": [
    "ph1.info()"
   ]
  },
  {
   "cell_type": "code",
   "execution_count": 8,
   "id": "71bd420d",
   "metadata": {},
   "outputs": [
    {
     "data": {
      "text/plain": [
       "array([2, 1, 0])"
      ]
     },
     "execution_count": 8,
     "metadata": {},
     "output_type": "execute_result"
    }
   ],
   "source": [
    "# Import label encoder\n",
    "from sklearn import preprocessing\n",
    "# label_encoder object knows how to understand word labels.\n",
    "label_encoder = preprocessing.LabelEncoder()\n",
    "ph['Severity']= label_encoder.fit_transform(ph['Severity'])\n",
    "ph['Severity'].unique()"
   ]
  },
  {
   "cell_type": "code",
   "execution_count": 9,
   "id": "224419e3",
   "metadata": {},
   "outputs": [],
   "source": [
    "x=ph1\n",
    "y=ph['Severity']"
   ]
  },
  {
   "cell_type": "code",
   "execution_count": 10,
   "id": "5a8d96a2",
   "metadata": {},
   "outputs": [],
   "source": [
    "from sklearn.model_selection import train_test_split\n",
    "x_train,x_test,y_train,y_test=train_test_split(x,y,test_size=0.2, random_state=11)"
   ]
  },
  {
   "cell_type": "code",
   "execution_count": 11,
   "id": "63a516a2",
   "metadata": {},
   "outputs": [
    {
     "data": {
      "text/plain": [
       "SVC()"
      ]
     },
     "execution_count": 11,
     "metadata": {},
     "output_type": "execute_result"
    }
   ],
   "source": [
    "from sklearn.svm import SVC\n",
    "model=SVC(kernel='rbf')\n",
    "model.fit(x_train,y_train)"
   ]
  },
  {
   "cell_type": "code",
   "execution_count": 12,
   "id": "c876e2a2",
   "metadata": {},
   "outputs": [],
   "source": [
    "predit=model.predict(x_test)"
   ]
  },
  {
   "cell_type": "code",
   "execution_count": 13,
   "id": "6027ad34",
   "metadata": {},
   "outputs": [
    {
     "data": {
      "text/plain": [
       "0.8"
      ]
     },
     "execution_count": 13,
     "metadata": {},
     "output_type": "execute_result"
    }
   ],
   "source": [
    "from sklearn import metrics\n",
    "metrics.mean_absolute_error(y_test,predit)"
   ]
  },
  {
   "cell_type": "code",
   "execution_count": 14,
   "id": "94025258",
   "metadata": {},
   "outputs": [
    {
     "data": {
      "text/plain": [
       "1.2"
      ]
     },
     "execution_count": 14,
     "metadata": {},
     "output_type": "execute_result"
    }
   ],
   "source": [
    "metrics.mean_squared_error(y_test,predit)"
   ]
  },
  {
   "cell_type": "code",
   "execution_count": 15,
   "id": "8ad07f0e",
   "metadata": {},
   "outputs": [
    {
     "name": "stdout",
     "output_type": "stream",
     "text": [
      "1.0954451150103321\n"
     ]
    }
   ],
   "source": [
    "import numpy as np\n",
    "rmse=np.sqrt(metrics.mean_squared_error(y_test,predit))\n",
    "print(rmse)"
   ]
  },
  {
   "cell_type": "code",
   "execution_count": 16,
   "id": "3a586325",
   "metadata": {},
   "outputs": [
    {
     "name": "stdout",
     "output_type": "stream",
     "text": [
      "              precision    recall  f1-score   support\n",
      "\n",
      "           0       0.50      1.00      0.67         1\n",
      "           1       0.33      1.00      0.50         1\n",
      "           2       0.00      0.00      0.00         3\n",
      "\n",
      "    accuracy                           0.40         5\n",
      "   macro avg       0.28      0.67      0.39         5\n",
      "weighted avg       0.17      0.40      0.23         5\n",
      "\n",
      "[[1 0 0]\n",
      " [0 1 0]\n",
      " [1 2 0]]\n"
     ]
    },
    {
     "name": "stderr",
     "output_type": "stream",
     "text": [
      "C:\\Users\\Sree Harini\\anaconda3\\lib\\site-packages\\sklearn\\metrics\\_classification.py:1318: UndefinedMetricWarning: Precision and F-score are ill-defined and being set to 0.0 in labels with no predicted samples. Use `zero_division` parameter to control this behavior.\n",
      "  _warn_prf(average, modifier, msg_start, len(result))\n",
      "C:\\Users\\Sree Harini\\anaconda3\\lib\\site-packages\\sklearn\\metrics\\_classification.py:1318: UndefinedMetricWarning: Precision and F-score are ill-defined and being set to 0.0 in labels with no predicted samples. Use `zero_division` parameter to control this behavior.\n",
      "  _warn_prf(average, modifier, msg_start, len(result))\n",
      "C:\\Users\\Sree Harini\\anaconda3\\lib\\site-packages\\sklearn\\metrics\\_classification.py:1318: UndefinedMetricWarning: Precision and F-score are ill-defined and being set to 0.0 in labels with no predicted samples. Use `zero_division` parameter to control this behavior.\n",
      "  _warn_prf(average, modifier, msg_start, len(result))\n"
     ]
    }
   ],
   "source": [
    "from sklearn.metrics import classification_report , confusion_matrix\n",
    "print(classification_report(y_test,predit))\n",
    "print(confusion_matrix(y_test,predit))"
   ]
  },
  {
   "cell_type": "code",
   "execution_count": 17,
   "id": "33d2ca16",
   "metadata": {},
   "outputs": [],
   "source": [
    "#Scaling\n",
    "from sklearn import preprocessing\n",
    "ph2=ph1.copy()\n",
    "#scaler=preprocessing.MinMaxScaler()->default feature_range=(0,1)\n",
    "scalar=preprocessing.MinMaxScaler(feature_range=(0,1))\n",
    "ph2.iloc[:,:]=scalar.fit_transform(ph2)"
   ]
  },
  {
   "cell_type": "code",
   "execution_count": 18,
   "id": "c1839722",
   "metadata": {},
   "outputs": [],
   "source": [
    "x=ph2\n",
    "y=ph['Severity']"
   ]
  },
  {
   "cell_type": "code",
   "execution_count": 19,
   "id": "8ba2e13a",
   "metadata": {},
   "outputs": [],
   "source": [
    "from sklearn.model_selection import train_test_split\n",
    "x_train,x_test,y_train,y_test=train_test_split(x,y,test_size=0.2, random_state=5)"
   ]
  },
  {
   "cell_type": "code",
   "execution_count": 20,
   "id": "e8685e33",
   "metadata": {},
   "outputs": [
    {
     "data": {
      "text/plain": [
       "SVC()"
      ]
     },
     "execution_count": 20,
     "metadata": {},
     "output_type": "execute_result"
    }
   ],
   "source": [
    "from sklearn.svm import SVC\n",
    "model=SVC(kernel='rbf')\n",
    "model.fit(x_train,y_train)"
   ]
  },
  {
   "cell_type": "code",
   "execution_count": 21,
   "id": "f6d23077",
   "metadata": {},
   "outputs": [],
   "source": [
    "predit=model.predict(x_test)"
   ]
  },
  {
   "cell_type": "code",
   "execution_count": 22,
   "id": "3c45524f",
   "metadata": {},
   "outputs": [
    {
     "data": {
      "text/plain": [
       "0.2"
      ]
     },
     "execution_count": 22,
     "metadata": {},
     "output_type": "execute_result"
    }
   ],
   "source": [
    "from sklearn import metrics\n",
    "metrics.mean_absolute_error(y_test,predit)"
   ]
  },
  {
   "cell_type": "code",
   "execution_count": 23,
   "id": "8f41805d",
   "metadata": {},
   "outputs": [
    {
     "data": {
      "text/plain": [
       "0.2"
      ]
     },
     "execution_count": 23,
     "metadata": {},
     "output_type": "execute_result"
    }
   ],
   "source": [
    "metrics.mean_squared_error(y_test,predit)"
   ]
  },
  {
   "cell_type": "code",
   "execution_count": 24,
   "id": "fc630d20",
   "metadata": {},
   "outputs": [
    {
     "name": "stdout",
     "output_type": "stream",
     "text": [
      "0.4472135954999579\n"
     ]
    }
   ],
   "source": [
    "import numpy as np\n",
    "rmse=np.sqrt(metrics.mean_squared_error(y_test,predit))\n",
    "print(rmse)"
   ]
  },
  {
   "cell_type": "code",
   "execution_count": 25,
   "id": "e31c715c",
   "metadata": {},
   "outputs": [
    {
     "name": "stdout",
     "output_type": "stream",
     "text": [
      "              precision    recall  f1-score   support\n",
      "\n",
      "           0       1.00      1.00      1.00         1\n",
      "           1       1.00      0.50      0.67         2\n",
      "           2       0.67      1.00      0.80         2\n",
      "\n",
      "    accuracy                           0.80         5\n",
      "   macro avg       0.89      0.83      0.82         5\n",
      "weighted avg       0.87      0.80      0.79         5\n",
      "\n",
      "[[1 0 0]\n",
      " [0 1 1]\n",
      " [0 0 2]]\n"
     ]
    }
   ],
   "source": [
    "from sklearn.metrics import classification_report , confusion_matrix\n",
    "print(classification_report(y_test,predit))\n",
    "print(confusion_matrix(y_test,predit))"
   ]
  },
  {
   "cell_type": "code",
   "execution_count": null,
   "id": "dd12a4bb",
   "metadata": {},
   "outputs": [],
   "source": []
  }
 ],
 "metadata": {
  "kernelspec": {
   "display_name": "Python 3 (ipykernel)",
   "language": "python",
   "name": "python3"
  },
  "language_info": {
   "codemirror_mode": {
    "name": "ipython",
    "version": 3
   },
   "file_extension": ".py",
   "mimetype": "text/x-python",
   "name": "python",
   "nbconvert_exporter": "python",
   "pygments_lexer": "ipython3",
   "version": "3.9.12"
  }
 },
 "nbformat": 4,
 "nbformat_minor": 5
}

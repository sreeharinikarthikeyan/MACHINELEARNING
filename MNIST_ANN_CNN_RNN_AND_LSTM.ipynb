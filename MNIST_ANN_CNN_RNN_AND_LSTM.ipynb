{
  "nbformat": 4,
  "nbformat_minor": 0,
  "metadata": {
    "colab": {
      "provenance": [],
      "include_colab_link": true
    },
    "kernelspec": {
      "name": "python3",
      "display_name": "Python 3"
    },
    "language_info": {
      "name": "python"
    }
  },
  "cells": [
    {
      "cell_type": "markdown",
      "metadata": {
        "id": "view-in-github",
        "colab_type": "text"
      },
      "source": [
        "<a href=\"https://colab.research.google.com/github/sreeharinikarthikeyan/MACHINELEARNING/blob/main/MNIST_ANN_CNN_RNN_AND_LSTM.ipynb\" target=\"_parent\"><img src=\"https://colab.research.google.com/assets/colab-badge.svg\" alt=\"Open In Colab\"/></a>"
      ]
    },
    {
      "cell_type": "markdown",
      "source": [
        "## **ANN MODEL**"
      ],
      "metadata": {
        "id": "ss3spejunvz_"
      }
    },
    {
      "cell_type": "code",
      "execution_count": null,
      "metadata": {
        "id": "tver0Rdgmzzu"
      },
      "outputs": [],
      "source": [
        "import numpy as np\n",
        "import tensorflow as tf\n",
        "from tensorflow.keras.datasets import mnist\n",
        "from tensorflow.keras.models import Sequential\n",
        "from tensorflow.keras.layers import Flatten, Dense\n",
        "from tensorflow.keras.utils import to_categorical"
      ]
    },
    {
      "cell_type": "code",
      "source": [
        "# Load and preprocess the MNIST dataset\n",
        "(X_train, y_train), (X_test, y_test) = mnist.load_data()"
      ],
      "metadata": {
        "colab": {
          "base_uri": "https://localhost:8080/"
        },
        "id": "76oAjmSAnKRV",
        "outputId": "2bd3c494-8295-4369-c131-52ac3d44cd6a"
      },
      "execution_count": null,
      "outputs": [
        {
          "output_type": "stream",
          "name": "stdout",
          "text": [
            "Downloading data from https://storage.googleapis.com/tensorflow/tf-keras-datasets/mnist.npz\n",
            "11490434/11490434 [==============================] - 0s 0us/step\n"
          ]
        }
      ]
    },
    {
      "cell_type": "code",
      "source": [
        "# Normalize the pixel values to range [0, 1]\n",
        "X_train = X_train.astype('float32') / 255.0\n",
        "X_test = X_test.astype('float32') / 255.0"
      ],
      "metadata": {
        "id": "EQ_VarsfnVIh"
      },
      "execution_count": null,
      "outputs": []
    },
    {
      "cell_type": "code",
      "source": [
        "# Flatten the 28x28 images to a 1D vector of 784 features\n",
        "X_train = X_train.reshape(-1, 28*28)\n",
        "X_test = X_test.reshape(-1, 28*28)"
      ],
      "metadata": {
        "id": "jqXKv5qgnlNu"
      },
      "execution_count": null,
      "outputs": []
    },
    {
      "cell_type": "code",
      "source": [
        "# One-hot encode the target labels\n",
        "y_train = to_categorical(y_train, 10)\n",
        "y_test = to_categorical(y_test, 10)"
      ],
      "metadata": {
        "id": "VbIzc6bDnmhW"
      },
      "execution_count": null,
      "outputs": []
    },
    {
      "cell_type": "code",
      "source": [
        "# Build the ANN model\n",
        "model = Sequential([\n",
        "    Dense(128, activation='relu', input_shape=(784,)),\n",
        "    Dense(64, activation='relu'),\n",
        "    Dense(10, activation='softmax')\n",
        "])"
      ],
      "metadata": {
        "id": "k0awTZKHnnxx"
      },
      "execution_count": null,
      "outputs": []
    },
    {
      "cell_type": "code",
      "source": [
        "# Compile the model\n",
        "model.compile(optimizer='adam', loss='categorical_crossentropy', metrics=['accuracy'])\n"
      ],
      "metadata": {
        "id": "bNyQccyWno0w"
      },
      "execution_count": null,
      "outputs": []
    },
    {
      "cell_type": "code",
      "source": [
        "# Train the model\n",
        "model.fit(X_train, y_train, epochs=10, batch_size=128, validation_split=0.1)\n"
      ],
      "metadata": {
        "colab": {
          "base_uri": "https://localhost:8080/"
        },
        "id": "VVLnDMTtnp5z",
        "outputId": "2f7df3cf-7d99-40e3-ad0a-30b0aac27cf6"
      },
      "execution_count": null,
      "outputs": [
        {
          "output_type": "stream",
          "name": "stdout",
          "text": [
            "Epoch 1/10\n",
            "422/422 [==============================] - 3s 5ms/step - loss: 1.3977 - accuracy: 0.5814 - val_loss: 0.7122 - val_accuracy: 0.7877\n",
            "Epoch 2/10\n",
            "422/422 [==============================] - 2s 5ms/step - loss: 0.6599 - accuracy: 0.7985 - val_loss: 0.4930 - val_accuracy: 0.8602\n",
            "Epoch 3/10\n",
            "422/422 [==============================] - 4s 8ms/step - loss: 0.5012 - accuracy: 0.8512 - val_loss: 0.3825 - val_accuracy: 0.8947\n",
            "Epoch 4/10\n",
            "422/422 [==============================] - 2s 5ms/step - loss: 0.4151 - accuracy: 0.8784 - val_loss: 0.3229 - val_accuracy: 0.9095\n",
            "Epoch 5/10\n",
            "422/422 [==============================] - 2s 5ms/step - loss: 0.3644 - accuracy: 0.8945 - val_loss: 0.2844 - val_accuracy: 0.9203\n",
            "Epoch 6/10\n",
            "422/422 [==============================] - 2s 5ms/step - loss: 0.3328 - accuracy: 0.9034 - val_loss: 0.2634 - val_accuracy: 0.9230\n",
            "Epoch 7/10\n",
            "422/422 [==============================] - 2s 5ms/step - loss: 0.3106 - accuracy: 0.9101 - val_loss: 0.2484 - val_accuracy: 0.9258\n",
            "Epoch 8/10\n",
            "422/422 [==============================] - 3s 6ms/step - loss: 0.2938 - accuracy: 0.9144 - val_loss: 0.2343 - val_accuracy: 0.9338\n",
            "Epoch 9/10\n",
            "422/422 [==============================] - 3s 7ms/step - loss: 0.2797 - accuracy: 0.9189 - val_loss: 0.2254 - val_accuracy: 0.9352\n",
            "Epoch 10/10\n",
            "422/422 [==============================] - 2s 6ms/step - loss: 0.2683 - accuracy: 0.9230 - val_loss: 0.2118 - val_accuracy: 0.9395\n"
          ]
        },
        {
          "output_type": "execute_result",
          "data": {
            "text/plain": [
              "<keras.callbacks.History at 0x7d185377be50>"
            ]
          },
          "metadata": {},
          "execution_count": 9
        }
      ]
    },
    {
      "cell_type": "code",
      "source": [
        "# Evaluate the model on the test set\n",
        "loss, accuracy = model.evaluate(X_test, y_test)\n",
        "print(f'Test Loss: {loss}, Test Accuracy: {accuracy}')"
      ],
      "metadata": {
        "colab": {
          "base_uri": "https://localhost:8080/"
        },
        "id": "kMoJvR0Dnrrj",
        "outputId": "cd5fed88-a0b5-4e40-ea01-d5d596c63c11"
      },
      "execution_count": null,
      "outputs": [
        {
          "output_type": "stream",
          "name": "stdout",
          "text": [
            "313/313 [==============================] - 1s 2ms/step - loss: 0.2561 - accuracy: 0.9266\n",
            "Test Loss: 0.2561499774456024, Test Accuracy: 0.9265999794006348\n"
          ]
        }
      ]
    },
    {
      "cell_type": "markdown",
      "source": [
        "## **CNN MODEL**"
      ],
      "metadata": {
        "id": "yyQmxoigoCl-"
      }
    },
    {
      "cell_type": "code",
      "source": [
        "import numpy as np\n",
        "import tensorflow as tf\n",
        "from tensorflow.keras.datasets import mnist\n",
        "from tensorflow.keras.models import Sequential\n",
        "from tensorflow.keras.layers import Conv2D, MaxPooling2D, Flatten, Dense\n",
        "from tensorflow.keras.utils import to_categorical"
      ],
      "metadata": {
        "id": "_ZRhkX13n0Qu"
      },
      "execution_count": null,
      "outputs": []
    },
    {
      "cell_type": "code",
      "source": [
        "# Load and preprocess the MNIST dataset\n",
        "(X_train, y_train), (X_test, y_test) = mnist.load_data()"
      ],
      "metadata": {
        "id": "2q3BWx_RoE_q"
      },
      "execution_count": null,
      "outputs": []
    },
    {
      "cell_type": "code",
      "source": [
        "# Normalize the pixel values to range [0, 1]\n",
        "X_train = X_train.astype('float32') / 255.0\n",
        "X_test = X_test.astype('float32') / 255.0"
      ],
      "metadata": {
        "id": "OEWo0XbcoGgl"
      },
      "execution_count": null,
      "outputs": []
    },
    {
      "cell_type": "code",
      "source": [
        "# Reshape the data to add a channel dimension for grayscale images (1 channel)\n",
        "X_train = X_train.reshape(-1, 28, 28, 1)\n",
        "X_test = X_test.reshape(-1, 28, 28, 1)"
      ],
      "metadata": {
        "id": "5onYSvT9oHXq"
      },
      "execution_count": null,
      "outputs": []
    },
    {
      "cell_type": "code",
      "source": [
        "# One-hot encode the target labels\n",
        "y_train = to_categorical(y_train, 10)\n",
        "y_test = to_categorical(y_test, 10)"
      ],
      "metadata": {
        "id": "a3J0tAAJoILU"
      },
      "execution_count": null,
      "outputs": []
    },
    {
      "cell_type": "code",
      "source": [
        "# Build the CNN model\n",
        "model = Sequential([\n",
        "    Conv2D(32, (3, 3), activation='relu', input_shape=(28, 28, 1)),\n",
        "    MaxPooling2D((2, 2)),\n",
        "    Conv2D(64, (3, 3), activation='relu'),\n",
        "    MaxPooling2D((2, 2)),\n",
        "    Flatten(),\n",
        "    Dense(128, activation='relu'),\n",
        "    Dense(10, activation='softmax')\n",
        "])\n"
      ],
      "metadata": {
        "id": "Vy__lkhhoJ_i"
      },
      "execution_count": null,
      "outputs": []
    },
    {
      "cell_type": "code",
      "source": [
        "# Compile the model\n",
        "model.compile(optimizer='adam', loss='categorical_crossentropy', metrics=['accuracy'])"
      ],
      "metadata": {
        "id": "V8l8hc7boK1x"
      },
      "execution_count": null,
      "outputs": []
    },
    {
      "cell_type": "code",
      "source": [
        "# Train the model\n",
        "model.fit(X_train, y_train, epochs=10, batch_size=128, validation_split=0.1)\n",
        "\n"
      ],
      "metadata": {
        "colab": {
          "base_uri": "https://localhost:8080/"
        },
        "id": "8Q3uRAIBoL37",
        "outputId": "5f46eaa2-354b-46ca-f12d-eb59adddbf8a"
      },
      "execution_count": null,
      "outputs": [
        {
          "output_type": "stream",
          "name": "stdout",
          "text": [
            "Epoch 1/10\n",
            "422/422 [==============================] - 49s 114ms/step - loss: 0.2255 - accuracy: 0.9335 - val_loss: 0.0697 - val_accuracy: 0.9802\n",
            "Epoch 2/10\n",
            "422/422 [==============================] - 54s 127ms/step - loss: 0.0595 - accuracy: 0.9820 - val_loss: 0.0468 - val_accuracy: 0.9868\n",
            "Epoch 3/10\n",
            "422/422 [==============================] - 57s 135ms/step - loss: 0.0427 - accuracy: 0.9868 - val_loss: 0.0390 - val_accuracy: 0.9883\n",
            "Epoch 4/10\n",
            "422/422 [==============================] - 49s 116ms/step - loss: 0.0310 - accuracy: 0.9905 - val_loss: 0.0356 - val_accuracy: 0.9898\n",
            "Epoch 5/10\n",
            "422/422 [==============================] - 50s 118ms/step - loss: 0.0236 - accuracy: 0.9926 - val_loss: 0.0394 - val_accuracy: 0.9892\n",
            "Epoch 6/10\n",
            "422/422 [==============================] - 52s 123ms/step - loss: 0.0201 - accuracy: 0.9934 - val_loss: 0.0473 - val_accuracy: 0.9868\n",
            "Epoch 7/10\n",
            "422/422 [==============================] - 50s 118ms/step - loss: 0.0148 - accuracy: 0.9954 - val_loss: 0.0348 - val_accuracy: 0.9902\n",
            "Epoch 8/10\n",
            "422/422 [==============================] - 50s 118ms/step - loss: 0.0134 - accuracy: 0.9957 - val_loss: 0.0327 - val_accuracy: 0.9915\n",
            "Epoch 9/10\n",
            "422/422 [==============================] - 49s 117ms/step - loss: 0.0102 - accuracy: 0.9967 - val_loss: 0.0383 - val_accuracy: 0.9898\n",
            "Epoch 10/10\n",
            "422/422 [==============================] - 48s 114ms/step - loss: 0.0089 - accuracy: 0.9970 - val_loss: 0.0493 - val_accuracy: 0.9880\n"
          ]
        },
        {
          "output_type": "execute_result",
          "data": {
            "text/plain": [
              "<keras.callbacks.History at 0x7d184f5f3160>"
            ]
          },
          "metadata": {},
          "execution_count": 18
        }
      ]
    },
    {
      "cell_type": "code",
      "source": [
        "# Evaluate the model on the test set\n",
        "loss, accuracy = model.evaluate(X_test, y_test)\n",
        "print(f'Test Loss: {loss}, Test Accuracy: {accuracy}')"
      ],
      "metadata": {
        "colab": {
          "base_uri": "https://localhost:8080/"
        },
        "id": "2E_E095QoNEy",
        "outputId": "ac0ab076-3550-4d0e-d592-6c0d5e3b6313"
      },
      "execution_count": null,
      "outputs": [
        {
          "output_type": "stream",
          "name": "stdout",
          "text": [
            "313/313 [==============================] - 3s 10ms/step - loss: 0.0415 - accuracy: 0.9889\n",
            "Test Loss: 0.04152343049645424, Test Accuracy: 0.9889000058174133\n"
          ]
        }
      ]
    },
    {
      "cell_type": "markdown",
      "source": [
        "## **RNN**"
      ],
      "metadata": {
        "id": "EEMJZRcIofra"
      }
    },
    {
      "cell_type": "code",
      "source": [
        "import numpy as np\n",
        "from keras.models import Sequential\n",
        "from keras.layers import Dense,Activation,SimpleRNN\n",
        "from keras.utils import to_categorical,plot_model\n",
        "from keras.datasets import mnist"
      ],
      "metadata": {
        "id": "AGSiy741oj3C"
      },
      "execution_count": null,
      "outputs": []
    },
    {
      "cell_type": "code",
      "source": [
        "(x_train,y_train),(x_test,y_test)=mnist.load_data()"
      ],
      "metadata": {
        "id": "jSQ1W__Bolti"
      },
      "execution_count": null,
      "outputs": []
    },
    {
      "cell_type": "code",
      "source": [
        "#CONVERT TO ONE-HOT VECTOR\n",
        "y_train=to_categorical(y_train)\n",
        "y_test=to_categorical(y_test)"
      ],
      "metadata": {
        "id": "xfZFre38omVN"
      },
      "execution_count": null,
      "outputs": []
    },
    {
      "cell_type": "code",
      "source": [
        "# Flatten the 28x28 images to a 1D vector of 784 features\n",
        "X_train = X_train.reshape(-1, 28,28)\n",
        "X_test = X_test.reshape(-1, 28,28)"
      ],
      "metadata": {
        "id": "_WT9YSbXomXg"
      },
      "execution_count": null,
      "outputs": []
    },
    {
      "cell_type": "code",
      "source": [
        "#network parameters\n",
        "image_size=28\n",
        "input_shape=(image_size,image_size)\n",
        "batch_size=128\n",
        "units=28\n",
        "dropout=0.2"
      ],
      "metadata": {
        "id": "ZPmyDxcurG1z"
      },
      "execution_count": null,
      "outputs": []
    },
    {
      "cell_type": "code",
      "source": [
        "#model is RNN with 256 units,input-28dim vector with 28 timesteps\n",
        "model=Sequential()\n",
        "model.add(SimpleRNN(units=units,input_shape=input_shape))\n",
        "model.add(Dense(10))\n",
        "model.add(Activation('softmax'))\n",
        "model.summary()"
      ],
      "metadata": {
        "colab": {
          "base_uri": "https://localhost:8080/"
        },
        "id": "19q53N1PomZr",
        "outputId": "d0ca6b31-9671-471c-fdc8-c75262f16b03"
      },
      "execution_count": null,
      "outputs": [
        {
          "output_type": "stream",
          "name": "stdout",
          "text": [
            "Model: \"sequential_3\"\n",
            "_________________________________________________________________\n",
            " Layer (type)                Output Shape              Param #   \n",
            "=================================================================\n",
            " simple_rnn_1 (SimpleRNN)    (None, 28)                1596      \n",
            "                                                                 \n",
            " dense_5 (Dense)             (None, 10)                290       \n",
            "                                                                 \n",
            " activation (Activation)     (None, 10)                0         \n",
            "                                                                 \n",
            "=================================================================\n",
            "Total params: 1,886\n",
            "Trainable params: 1,886\n",
            "Non-trainable params: 0\n",
            "_________________________________________________________________\n"
          ]
        }
      ]
    },
    {
      "cell_type": "code",
      "source": [
        "#to compile the model\n",
        "model.compile(optimizer=\"adam\", loss = 'categorical_crossentropy', metrics = ['accuracy'])"
      ],
      "metadata": {
        "id": "k5Qkxae1omdg"
      },
      "execution_count": null,
      "outputs": []
    },
    {
      "cell_type": "code",
      "source": [
        "model.fit(x_train,y_train,epochs=20,batch_size=batch_size)"
      ],
      "metadata": {
        "colab": {
          "base_uri": "https://localhost:8080/"
        },
        "id": "HKyUL0ACrWqv",
        "outputId": "13047e1b-4ac1-4c0d-9799-a9f96e6e4aa2"
      },
      "execution_count": null,
      "outputs": [
        {
          "output_type": "stream",
          "name": "stdout",
          "text": [
            "Epoch 1/20\n",
            "469/469 [==============================] - 7s 10ms/step - loss: 1.7065 - accuracy: 0.3832\n",
            "Epoch 2/20\n",
            "469/469 [==============================] - 4s 9ms/step - loss: 1.4105 - accuracy: 0.4785\n",
            "Epoch 3/20\n",
            "469/469 [==============================] - 4s 8ms/step - loss: 1.3567 - accuracy: 0.4930\n",
            "Epoch 4/20\n",
            "469/469 [==============================] - 4s 9ms/step - loss: 1.3296 - accuracy: 0.5002\n",
            "Epoch 5/20\n",
            "469/469 [==============================] - 5s 10ms/step - loss: 1.3137 - accuracy: 0.5030\n",
            "Epoch 6/20\n",
            "469/469 [==============================] - 4s 8ms/step - loss: 1.3023 - accuracy: 0.5063\n",
            "Epoch 7/20\n",
            "469/469 [==============================] - 6s 13ms/step - loss: 1.2927 - accuracy: 0.5075\n",
            "Epoch 8/20\n",
            "469/469 [==============================] - 4s 9ms/step - loss: 1.2869 - accuracy: 0.5096\n",
            "Epoch 9/20\n",
            "469/469 [==============================] - 4s 8ms/step - loss: 1.2795 - accuracy: 0.5117\n",
            "Epoch 10/20\n",
            "469/469 [==============================] - 5s 11ms/step - loss: 1.2755 - accuracy: 0.5119\n",
            "Epoch 11/20\n",
            "469/469 [==============================] - 7s 14ms/step - loss: 1.2685 - accuracy: 0.5138\n",
            "Epoch 12/20\n",
            "469/469 [==============================] - 4s 8ms/step - loss: 1.2637 - accuracy: 0.5151\n",
            "Epoch 13/20\n",
            "469/469 [==============================] - 5s 10ms/step - loss: 1.2601 - accuracy: 0.5148\n",
            "Epoch 14/20\n",
            "469/469 [==============================] - 4s 9ms/step - loss: 1.2534 - accuracy: 0.5177\n",
            "Epoch 15/20\n",
            "469/469 [==============================] - 4s 9ms/step - loss: 1.2452 - accuracy: 0.5203\n",
            "Epoch 16/20\n",
            "469/469 [==============================] - 5s 10ms/step - loss: 1.2349 - accuracy: 0.5242\n",
            "Epoch 17/20\n",
            "469/469 [==============================] - 4s 9ms/step - loss: 1.2285 - accuracy: 0.5252\n",
            "Epoch 18/20\n",
            "469/469 [==============================] - 4s 8ms/step - loss: 1.2271 - accuracy: 0.5269\n",
            "Epoch 19/20\n",
            "469/469 [==============================] - 4s 9ms/step - loss: 1.2224 - accuracy: 0.5265\n",
            "Epoch 20/20\n",
            "469/469 [==============================] - 5s 10ms/step - loss: 1.2199 - accuracy: 0.5292\n"
          ]
        },
        {
          "output_type": "execute_result",
          "data": {
            "text/plain": [
              "<keras.callbacks.History at 0x7d185bcef670>"
            ]
          },
          "metadata": {},
          "execution_count": 34
        }
      ]
    },
    {
      "cell_type": "code",
      "source": [
        "loss,acc=model.evaluate(x_test,y_test,batch_size=batch_size)\n",
        "print(\"\\nTest accuracy:%.1f%%\" % (100.0*acc))"
      ],
      "metadata": {
        "colab": {
          "base_uri": "https://localhost:8080/"
        },
        "id": "wBCE0GECr8p5",
        "outputId": "65aee003-e126-4efe-bdc2-c1c43cca9aae"
      },
      "execution_count": null,
      "outputs": [
        {
          "output_type": "stream",
          "name": "stdout",
          "text": [
            "79/79 [==============================] - 2s 9ms/step - loss: 1.2415 - accuracy: 0.5228\n",
            "\n",
            "Test accuracy:52.3%\n"
          ]
        }
      ]
    },
    {
      "cell_type": "markdown",
      "source": [
        "# **LSTM**"
      ],
      "metadata": {
        "id": "xv8wwLqisM5D"
      }
    },
    {
      "cell_type": "code",
      "source": [
        "import numpy as np\n",
        "import tensorflow as tf\n",
        "from tensorflow.keras.datasets import mnist\n",
        "from tensorflow.keras.models import Sequential\n",
        "from tensorflow.keras.layers import LSTM, Dense"
      ],
      "metadata": {
        "id": "qPpSt5TnsERC"
      },
      "execution_count": null,
      "outputs": []
    },
    {
      "cell_type": "code",
      "source": [
        "# Load and preprocess the MNIST dataset\n",
        "(X_train, y_train), (X_test, y_test) = mnist.load_data()"
      ],
      "metadata": {
        "id": "Mjxd1__lsPcq"
      },
      "execution_count": null,
      "outputs": []
    },
    {
      "cell_type": "code",
      "source": [
        "# Normalize the pixel values to range [0, 1]\n",
        "X_train = X_train.astype('float32') / 255.0\n",
        "X_test = X_test.astype('float32') / 255.0"
      ],
      "metadata": {
        "id": "PY9CEAensQfW"
      },
      "execution_count": null,
      "outputs": []
    },
    {
      "cell_type": "code",
      "source": [
        "X_train = X_train.reshape(-1,28,28)\n",
        "X_test = X_test.reshape(-1,28,28)"
      ],
      "metadata": {
        "id": "BXNrwMzfsRei"
      },
      "execution_count": null,
      "outputs": []
    },
    {
      "cell_type": "code",
      "source": [
        "# One-hot encode the target labels\n",
        "y_train = to_categorical(y_train, 10)\n",
        "y_test = to_categorical(y_test, 10)"
      ],
      "metadata": {
        "id": "lb7w5-HgsYet"
      },
      "execution_count": null,
      "outputs": []
    },
    {
      "cell_type": "code",
      "source": [
        "# Build the LSTM model\n",
        "model = Sequential([\n",
        "    LSTM(128, input_shape=(28,28)),\n",
        "    Dense(10, activation='softmax')\n",
        "])"
      ],
      "metadata": {
        "id": "FLQK9z2msb71"
      },
      "execution_count": null,
      "outputs": []
    },
    {
      "cell_type": "code",
      "source": [
        "# Compile the model\n",
        "model.compile(optimizer='adam', loss='categorical_crossentropy', metrics=['accuracy'])"
      ],
      "metadata": {
        "id": "GzppjcXHsdfH"
      },
      "execution_count": null,
      "outputs": []
    },
    {
      "cell_type": "code",
      "source": [
        "# Train the model\n",
        "model.fit(X_train, y_train, epochs=10, batch_size=32, validation_split=0.1)"
      ],
      "metadata": {
        "colab": {
          "base_uri": "https://localhost:8080/"
        },
        "id": "AltgrXLJsgyP",
        "outputId": "8d3a48e5-7f6a-4ce7-be1e-f69929defe8a"
      },
      "execution_count": null,
      "outputs": [
        {
          "output_type": "stream",
          "name": "stdout",
          "text": [
            "Epoch 1/10\n",
            "1688/1688 [==============================] - 81s 46ms/step - loss: 0.3602 - accuracy: 0.8838 - val_loss: 0.1107 - val_accuracy: 0.9668\n",
            "Epoch 2/10\n",
            "1688/1688 [==============================] - 78s 46ms/step - loss: 0.1138 - accuracy: 0.9656 - val_loss: 0.0829 - val_accuracy: 0.9767\n",
            "Epoch 3/10\n",
            "1688/1688 [==============================] - 76s 45ms/step - loss: 0.0756 - accuracy: 0.9767 - val_loss: 0.0775 - val_accuracy: 0.9778\n",
            "Epoch 4/10\n",
            "1688/1688 [==============================] - 78s 46ms/step - loss: 0.0618 - accuracy: 0.9815 - val_loss: 0.0505 - val_accuracy: 0.9855\n",
            "Epoch 5/10\n",
            "1688/1688 [==============================] - 77s 46ms/step - loss: 0.0485 - accuracy: 0.9853 - val_loss: 0.0486 - val_accuracy: 0.9857\n",
            "Epoch 6/10\n",
            "1688/1688 [==============================] - 78s 46ms/step - loss: 0.0404 - accuracy: 0.9875 - val_loss: 0.0588 - val_accuracy: 0.9853\n",
            "Epoch 7/10\n",
            "1688/1688 [==============================] - 78s 46ms/step - loss: 0.0370 - accuracy: 0.9886 - val_loss: 0.0383 - val_accuracy: 0.9902\n",
            "Epoch 8/10\n",
            "1688/1688 [==============================] - 78s 46ms/step - loss: 0.0289 - accuracy: 0.9911 - val_loss: 0.0526 - val_accuracy: 0.9870\n",
            "Epoch 9/10\n",
            "1688/1688 [==============================] - 81s 48ms/step - loss: 0.0260 - accuracy: 0.9918 - val_loss: 0.0439 - val_accuracy: 0.9880\n",
            "Epoch 10/10\n",
            "1688/1688 [==============================] - 78s 46ms/step - loss: 0.0251 - accuracy: 0.9923 - val_loss: 0.0411 - val_accuracy: 0.9900\n"
          ]
        },
        {
          "output_type": "execute_result",
          "data": {
            "text/plain": [
              "<keras.callbacks.History at 0x7d185b9f4d60>"
            ]
          },
          "metadata": {},
          "execution_count": 45
        }
      ]
    },
    {
      "cell_type": "code",
      "source": [
        "# Evaluate the model on the test set\n",
        "loss, accuracy = model.evaluate(X_test, y_test)\n",
        "print(f'Test Loss: {loss}, Test Accuracy: {accuracy}')"
      ],
      "metadata": {
        "colab": {
          "base_uri": "https://localhost:8080/"
        },
        "id": "GiyPWRYish3W",
        "outputId": "a1500bd6-c0f0-40fa-96b2-56e3bec91494"
      },
      "execution_count": null,
      "outputs": [
        {
          "output_type": "stream",
          "name": "stdout",
          "text": [
            "313/313 [==============================] - 5s 16ms/step - loss: 0.0428 - accuracy: 0.9876\n",
            "Test Loss: 0.04279191419482231, Test Accuracy: 0.9876000285148621\n"
          ]
        }
      ]
    },
    {
      "cell_type": "code",
      "source": [],
      "metadata": {
        "id": "jwZUVtVvLZfw"
      },
      "execution_count": null,
      "outputs": []
    },
    {
      "cell_type": "code",
      "source": [],
      "metadata": {
        "id": "SOvbPKnivnNO"
      },
      "execution_count": null,
      "outputs": []
    }
  ]
}
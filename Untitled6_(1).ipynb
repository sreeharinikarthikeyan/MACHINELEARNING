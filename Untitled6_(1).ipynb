{
  "cells": [
    {
      "cell_type": "markdown",
      "metadata": {
        "id": "view-in-github",
        "colab_type": "text"
      },
      "source": [
        "<a href=\"https://colab.research.google.com/github/sreeharinikarthikeyan/MACHINELEARNING/blob/main/Untitled6_(1).ipynb\" target=\"_parent\"><img src=\"https://colab.research.google.com/assets/colab-badge.svg\" alt=\"Open In Colab\"/></a>"
      ]
    },
    {
      "cell_type": "code",
      "execution_count": null,
      "id": "5f9d4378",
      "metadata": {
        "id": "5f9d4378"
      },
      "outputs": [],
      "source": [
        "#simple autoencoder\n",
        "#load data\n",
        "#reshape,normalize\n",
        "#model\n",
        "#summary\n",
        "#compile\n",
        "#fit\n",
        "#predict, result display\n",
        "#loss plot\n",
        "#cifar10\n",
        "import numpy as np\n",
        "import tensorflow as tf\n",
        "from tensorflow.keras.datasets import mnist"
      ]
    },
    {
      "cell_type": "code",
      "execution_count": null,
      "id": "b5228eda",
      "metadata": {
        "id": "b5228eda"
      },
      "outputs": [],
      "source": [
        "(x_train,y_train),(x_test,y_test)=mnist.load_data()"
      ]
    },
    {
      "cell_type": "code",
      "execution_count": null,
      "id": "c97e1f54",
      "metadata": {
        "id": "c97e1f54"
      },
      "outputs": [],
      "source": [
        "#normalize\n",
        "x_train=x_train/255.0\n",
        "x_test=x_test/255.0"
      ]
    },
    {
      "cell_type": "code",
      "execution_count": null,
      "id": "dc9f2947",
      "metadata": {
        "id": "dc9f2947"
      },
      "outputs": [],
      "source": [
        "from tensorflow.keras.layers import Dense,Input\n",
        "from tensorflow.keras.models import Model"
      ]
    },
    {
      "cell_type": "code",
      "execution_count": null,
      "id": "32f09022",
      "metadata": {
        "id": "32f09022"
      },
      "outputs": [],
      "source": [
        "#input,encode,decode\n",
        "input_layer=Input(shape=(28,28))\n",
        "\n",
        "encode=Dense(32,activation='relu')(input_layer)\n",
        "\n",
        "decode=Dense(28,activation='sigmoid')(encode)\n",
        "\n",
        "My_model=Model(input_layer,decode)"
      ]
    },
    {
      "cell_type": "code",
      "execution_count": null,
      "id": "d587b188",
      "metadata": {
        "id": "d587b188",
        "outputId": "bd74d3de-f2e4-436c-b936-4d3aaad0f769"
      },
      "outputs": [
        {
          "name": "stdout",
          "output_type": "stream",
          "text": [
            "Model: \"model_6\"\n",
            "_________________________________________________________________\n",
            " Layer (type)                Output Shape              Param #   \n",
            "=================================================================\n",
            " input_8 (InputLayer)        [(None, 28, 28)]          0         \n",
            "                                                                 \n",
            " dense_45 (Dense)            (None, 28, 32)            928       \n",
            "                                                                 \n",
            " dense_46 (Dense)            (None, 28, 28)            924       \n",
            "                                                                 \n",
            "=================================================================\n",
            "Total params: 1,852\n",
            "Trainable params: 1,852\n",
            "Non-trainable params: 0\n",
            "_________________________________________________________________\n"
          ]
        }
      ],
      "source": [
        "My_model.summary()"
      ]
    },
    {
      "cell_type": "code",
      "execution_count": null,
      "id": "9e527c6c",
      "metadata": {
        "id": "9e527c6c"
      },
      "outputs": [],
      "source": [
        "My_model.compile(optimizer='adadelta',loss='binary_crossentropy')"
      ]
    },
    {
      "cell_type": "code",
      "execution_count": null,
      "id": "307de370",
      "metadata": {
        "scrolled": true,
        "id": "307de370",
        "outputId": "0ac407aa-d6bf-4cee-9283-dc67f4f10e4a"
      },
      "outputs": [
        {
          "name": "stdout",
          "output_type": "stream",
          "text": [
            "Epoch 1/20\n",
            "235/235 [==============================] - 3s 9ms/step - loss: 0.6925 - val_loss: 0.6922\n",
            "Epoch 2/20\n",
            "235/235 [==============================] - 2s 7ms/step - loss: 0.6919 - val_loss: 0.6916\n",
            "Epoch 3/20\n",
            "235/235 [==============================] - 1s 6ms/step - loss: 0.6913 - val_loss: 0.6909\n",
            "Epoch 4/20\n",
            "235/235 [==============================] - 1s 6ms/step - loss: 0.6906 - val_loss: 0.6902\n",
            "Epoch 5/20\n",
            "235/235 [==============================] - 1s 6ms/step - loss: 0.6899 - val_loss: 0.6895\n",
            "Epoch 6/20\n",
            "235/235 [==============================] - 2s 6ms/step - loss: 0.6891 - val_loss: 0.6887\n",
            "Epoch 7/20\n",
            "235/235 [==============================] - 1s 6ms/step - loss: 0.6884 - val_loss: 0.6879\n",
            "Epoch 8/20\n",
            "235/235 [==============================] - 1s 6ms/step - loss: 0.6875 - val_loss: 0.6871\n",
            "Epoch 9/20\n",
            "235/235 [==============================] - 1s 6ms/step - loss: 0.6867 - val_loss: 0.6862\n",
            "Epoch 10/20\n",
            "235/235 [==============================] - 1s 6ms/step - loss: 0.6858 - val_loss: 0.6853\n",
            "Epoch 11/20\n",
            "235/235 [==============================] - 1s 6ms/step - loss: 0.6849 - val_loss: 0.6844\n",
            "Epoch 12/20\n",
            "235/235 [==============================] - 2s 7ms/step - loss: 0.6840 - val_loss: 0.6834\n",
            "Epoch 13/20\n",
            "235/235 [==============================] - 2s 6ms/step - loss: 0.6831 - val_loss: 0.6825\n",
            "Epoch 14/20\n",
            "235/235 [==============================] - 2s 7ms/step - loss: 0.6821 - val_loss: 0.6815\n",
            "Epoch 15/20\n",
            "235/235 [==============================] - 1s 6ms/step - loss: 0.6811 - val_loss: 0.6805\n",
            "Epoch 16/20\n",
            "235/235 [==============================] - 1s 6ms/step - loss: 0.6801 - val_loss: 0.6795\n",
            "Epoch 17/20\n",
            "235/235 [==============================] - 2s 7ms/step - loss: 0.6791 - val_loss: 0.6785\n",
            "Epoch 18/20\n",
            "235/235 [==============================] - 2s 7ms/step - loss: 0.6781 - val_loss: 0.6774\n",
            "Epoch 19/20\n",
            "235/235 [==============================] - 2s 8ms/step - loss: 0.6770 - val_loss: 0.6763\n",
            "Epoch 20/20\n",
            "235/235 [==============================] - 2s 7ms/step - loss: 0.6759 - val_loss: 0.6752\n"
          ]
        }
      ],
      "source": [
        "history=My_model.fit(x_train,x_train, validation_data=(x_test,x_test),batch_size=256,epochs=20,shuffle=True)"
      ]
    },
    {
      "cell_type": "code",
      "execution_count": null,
      "id": "51f8672c",
      "metadata": {
        "id": "51f8672c",
        "outputId": "107321bb-74b4-48b0-bee3-9bf35116b092"
      },
      "outputs": [
        {
          "data": {
            "image/png": "[encoded data removed]",
            "text/plain": [
              "<Figure size 648x144 with 5 Axes>"
            ]
          },
          "metadata": {
            "needs_background": "light"
          },
          "output_type": "display_data"
        }
      ],
      "source": [
        "import matplotlib.pyplot as plt\n",
        "n=5\n",
        "plt.figure(figsize=(9,2))\n",
        "for i in range(n):\n",
        "    ax=plt.subplot(1,n,i+1)\n",
        "    plt.imshow(x_test[i].reshape(28,28),cmap='gray')\n",
        "    ax.axis('off')\n",
        "plt.show()"
      ]
    },
    {
      "cell_type": "code",
      "execution_count": null,
      "id": "2fbba574",
      "metadata": {
        "id": "2fbba574",
        "outputId": "37e8625b-c689-42fe-b8f4-0c81e395cc99"
      },
      "outputs": [
        {
          "name": "stdout",
          "output_type": "stream",
          "text": [
            "313/313 [==============================] - 1s 2ms/step\n"
          ]
        },
        {
          "data": {
            "image/png": "[encoded data removed]",
            "text/plain": [
              "<Figure size 648x144 with 5 Axes>"
            ]
          },
          "metadata": {
            "needs_background": "light"
          },
          "output_type": "display_data"
        }
      ],
      "source": [
        "decoded_images=My_model.predict(x_test)\n",
        "n=5\n",
        "plt.figure(figsize=(9,2))\n",
        "for i in range(n):\n",
        "    ax=plt.subplot(1,n,i+1)\n",
        "    plt.imshow(decoded_images[i].reshape(28,28),cmap='gray')\n",
        "    ax.axis('off')\n",
        "plt.show()"
      ]
    },
    {
      "cell_type": "code",
      "execution_count": null,
      "id": "b48cd34c",
      "metadata": {
        "id": "b48cd34c"
      },
      "outputs": [],
      "source": [
        "#reshpe for deep autoencoder\n",
        "x_train=np.reshape(x_train,(-1,784))\n",
        "x_test=np.reshape(x_test,(-1,784))"
      ]
    },
    {
      "cell_type": "code",
      "execution_count": null,
      "id": "7fb5e45b",
      "metadata": {
        "id": "7fb5e45b"
      },
      "outputs": [],
      "source": [
        "#normalize\n",
        "x_train=x_train/255.0\n",
        "x_test=x_test/255.0"
      ]
    },
    {
      "cell_type": "code",
      "execution_count": null,
      "id": "83f46a9d",
      "metadata": {
        "id": "83f46a9d"
      },
      "outputs": [],
      "source": [
        "input_dim=28*28\n",
        "latent_dim=16"
      ]
    },
    {
      "cell_type": "code",
      "execution_count": null,
      "id": "ce6e842d",
      "metadata": {
        "id": "ce6e842d"
      },
      "outputs": [],
      "source": [
        "input_layer=Input(shape=(input_dim,))\n",
        "\n",
        "enc_layer1=Dense(500,activation='sigmoid')(input_layer)\n",
        "enc_layer2=Dense(300,activation='sigmoid')(enc_layer1)\n",
        "enc_layer3=Dense(100,activation='sigmoid')(enc_layer2)\n",
        "enc_layer4=Dense(latent_dim,activation='tanh')(enc_layer3)\n",
        "\n",
        "decode1=Dense(100,activation='sigmoid')(enc_layer4)\n",
        "decode2=Dense(300,activation='sigmoid')(decode1)\n",
        "decode3=Dense(500,activation='sigmoid')(decode2)\n",
        "decode4=Dense(input_dim,activation='sigmoid')(decode3)\n",
        "\n",
        "my_deepmodel=Model(input_layer,decode4)"
      ]
    },
    {
      "cell_type": "code",
      "execution_count": null,
      "id": "e909f2df",
      "metadata": {
        "id": "e909f2df"
      },
      "outputs": [],
      "source": [
        "my_deepmodel.compile(optimizer='adam',loss='binary_crossentropy')"
      ]
    },
    {
      "cell_type": "code",
      "execution_count": null,
      "id": "673cca9e",
      "metadata": {
        "id": "673cca9e",
        "outputId": "20dacc84-789d-4300-e7fd-6b9d570ff51b"
      },
      "outputs": [
        {
          "name": "stdout",
          "output_type": "stream",
          "text": [
            "Epoch 1/2\n",
            "469/469 [==============================] - 14s 25ms/step - loss: 0.0114 - val_loss: 0.0041\n",
            "Epoch 2/2\n",
            "469/469 [==============================] - 11s 24ms/step - loss: 0.0040 - val_loss: 0.0040\n"
          ]
        }
      ],
      "source": [
        "history=my_deepmodel.fit(x_train,x_train,validation_data=(x_test,x_test),epochs=2,batch_size=128,shuffle=True)"
      ]
    },
    {
      "cell_type": "code",
      "execution_count": null,
      "id": "b53dc02e",
      "metadata": {
        "id": "b53dc02e",
        "outputId": "cad2d9b9-7c79-40fe-cf30-536df3d04ee2"
      },
      "outputs": [
        {
          "data": {
            "image/png": "[encoded data removed]",
            "text/plain": [
              "<Figure size 648x144 with 5 Axes>"
            ]
          },
          "metadata": {
            "needs_background": "light"
          },
          "output_type": "display_data"
        }
      ],
      "source": [
        "n=5\n",
        "plt.figure(figsize=(9,2))\n",
        "for i in range(n):\n",
        "    ax=plt.subplot(1,n,i+1)\n",
        "    plt.imshow(x_test[i].reshape(28,28),cmap='gray')\n",
        "    ax.axis('off')\n",
        "plt.show()"
      ]
    },
    {
      "cell_type": "code",
      "execution_count": null,
      "id": "33d1d7d8",
      "metadata": {
        "id": "33d1d7d8",
        "outputId": "bfeebc8f-78a2-4022-ad02-bb78ff996daf"
      },
      "outputs": [
        {
          "name": "stdout",
          "output_type": "stream",
          "text": [
            "313/313 [==============================] - 1s 4ms/step\n"
          ]
        },
        {
          "data": {
            "image/png": "[encoded data removed]",
            "text/plain": [
              "<Figure size 648x144 with 5 Axes>"
            ]
          },
          "metadata": {
            "needs_background": "light"
          },
          "output_type": "display_data"
        }
      ],
      "source": [
        "decoded_images=my_deepmodel.predict(x_test)\n",
        "n=5\n",
        "plt.figure(figsize=(9,2))\n",
        "for i in range(n):\n",
        "    ax=plt.subplot(1,n,i+1)\n",
        "    plt.imshow(decoded_images[i].reshape(28,28),cmap='gray')\n",
        "    ax.axis('off')\n",
        "plt.show()"
      ]
    },
    {
      "cell_type": "code",
      "execution_count": null,
      "id": "9f420ec9",
      "metadata": {
        "id": "9f420ec9"
      },
      "outputs": [],
      "source": []
    },
    {
      "cell_type": "code",
      "execution_count": null,
      "id": "51b06e1f",
      "metadata": {
        "id": "51b06e1f"
      },
      "outputs": [],
      "source": [
        "#simple\n",
        "#deep\n",
        "#cnn\n",
        "#denoisy"
      ]
    },
    {
      "cell_type": "code",
      "execution_count": null,
      "id": "67ef4663",
      "metadata": {
        "id": "67ef4663"
      },
      "outputs": [],
      "source": [
        "#conv2d,maxpooling,upsampling\n",
        "from tensorflow.keras.layers import Conv2D,MaxPooling2D,UpSampling2D"
      ]
    },
    {
      "cell_type": "code",
      "execution_count": null,
      "id": "4538f62e",
      "metadata": {
        "id": "4538f62e"
      },
      "outputs": [],
      "source": [
        "(x_train,y_train),(x_test,y_test)=mnist.load_data()\n",
        "\n",
        "#normalize\n",
        "x_train=x_train/255.0\n",
        "x_test=x_test/255.0\n",
        "\n",
        "x_train=np.clip(x_train,0.,1.)\n",
        "\n",
        "x_test=np.clip(x_test,0.,1.)"
      ]
    },
    {
      "cell_type": "code",
      "execution_count": null,
      "id": "69de78ed",
      "metadata": {
        "id": "69de78ed"
      },
      "outputs": [],
      "source": [
        "#1\n",
        "input_layer=Input(shape=(28,28,1))\n",
        "#encoder\n",
        "x=Conv2D(32,(3,3),activation='relu',padding='same')(input_layer)\n",
        "x=MaxPooling2D((2,2),padding='same')(x)\n",
        "\n",
        "x=Conv2D(32,(3,3),activation='relu',padding='same')(x)\n",
        "encoder=MaxPooling2D((2,2),padding='same')(x)\n",
        "#decoder\n",
        "x=Conv2D(32,(3,3),activation='relu',padding='same')(encoder)\n",
        "x=UpSampling2D((2,2))(x)\n",
        "\n",
        "x=Conv2D(32,(3,3),activation='relu',padding='same')(x)\n",
        "x=UpSampling2D((2,2))(x)\n",
        "\n",
        "decoder=Conv2D(1,(3,3),activation='sigmoid',padding='same')(x)\n",
        "\n",
        "autoencoder=Model(input_layer,decoder)"
      ]
    },
    {
      "cell_type": "code",
      "execution_count": null,
      "id": "37ccaf14",
      "metadata": {
        "id": "37ccaf14"
      },
      "outputs": [],
      "source": [
        "autoencoder.compile(optimizer='adam',loss='binary_crossentropy')"
      ]
    },
    {
      "cell_type": "code",
      "execution_count": null,
      "id": "634f0eee",
      "metadata": {
        "id": "634f0eee",
        "outputId": "6fa636a2-7523-4f49-e69d-1c9eeb3871c6"
      },
      "outputs": [
        {
          "name": "stdout",
          "output_type": "stream",
          "text": [
            "Epoch 1/2\n",
            "235/235 [==============================] - 94s 393ms/step - loss: 0.1542 - val_loss: 0.0835\n",
            "Epoch 2/2\n",
            "235/235 [==============================] - 108s 460ms/step - loss: 0.0799 - val_loss: 0.0758\n"
          ]
        }
      ],
      "source": [
        "history=autoencoder.fit(x_train,x_train,validation_data=(x_test,x_test),epochs=2,batch_size=256)"
      ]
    },
    {
      "cell_type": "code",
      "execution_count": null,
      "id": "b9bfcebd",
      "metadata": {
        "id": "b9bfcebd",
        "outputId": "bb253932-2fed-44c9-89dd-6555c95593db"
      },
      "outputs": [
        {
          "data": {
            "image/png": "[encoded data removed]",
            "text/plain": [
              "<Figure size 648x144 with 5 Axes>"
            ]
          },
          "metadata": {
            "needs_background": "light"
          },
          "output_type": "display_data"
        }
      ],
      "source": [
        "n=5\n",
        "plt.figure(figsize=(9,2))\n",
        "for i in range(n):\n",
        "    ax=plt.subplot(1,n,i+1)\n",
        "    plt.imshow(x_test[i].reshape(28,28),cmap='gray')\n",
        "    ax.axis('off')\n",
        "plt.show()"
      ]
    },
    {
      "cell_type": "code",
      "execution_count": null,
      "id": "3a5332c6",
      "metadata": {
        "id": "3a5332c6",
        "outputId": "d20efe60-edde-4388-9557-6fcea8a72fa5"
      },
      "outputs": [
        {
          "name": "stdout",
          "output_type": "stream",
          "text": [
            "313/313 [==============================] - 5s 14ms/step\n"
          ]
        },
        {
          "data": {
            "image/png": "[encoded data removed]",
            "text/plain": [
              "<Figure size 648x144 with 5 Axes>"
            ]
          },
          "metadata": {
            "needs_background": "light"
          },
          "output_type": "display_data"
        }
      ],
      "source": [
        "decoded_images=autoencoder.predict(x_test)\n",
        "n=5\n",
        "plt.figure(figsize=(9,2))\n",
        "for i in range(n):\n",
        "    ax=plt.subplot(1,n,i+1)\n",
        "    plt.imshow(decoded_images[i].reshape(28,28),cmap='gray')\n",
        "    ax.axis('off')\n",
        "plt.show()"
      ]
    },
    {
      "cell_type": "code",
      "execution_count": null,
      "id": "bfc1d792",
      "metadata": {
        "id": "bfc1d792"
      },
      "outputs": [],
      "source": [
        "noise_factor=0.5\n",
        "\n",
        "x_train_noisy=x_train+noise_factor*np.random.normal(loc=0.0,scale=1.0,size=x_train.shape)\n",
        "\n",
        "x_test_noisy=x_test+noise_factor*np.random.normal(loc=0.0,scale=1.0,size=x_test.shape)\n",
        "#normalze\n",
        "x_train_noisy=np.clip(x_train_noisy,0.,1.)\n",
        "\n",
        "x_test_noisy=np.clip(x_test_noisy,0.,1.)"
      ]
    },
    {
      "cell_type": "code",
      "execution_count": null,
      "id": "df91fa56",
      "metadata": {
        "id": "df91fa56",
        "outputId": "5bacdebd-9a97-4dde-97af-172c6c091f9a"
      },
      "outputs": [
        {
          "name": "stdout",
          "output_type": "stream",
          "text": [
            "Epoch 1/10\n",
            "235/235 [==============================] - 91s 386ms/step - loss: 0.4861 - val_loss: 0.4835\n",
            "Epoch 2/10\n",
            "235/235 [==============================] - 98s 416ms/step - loss: 0.4812 - val_loss: 0.4777\n",
            "Epoch 3/10\n",
            "235/235 [==============================] - 92s 390ms/step - loss: 0.4743 - val_loss: 0.4700\n",
            "Epoch 4/10\n",
            "235/235 [==============================] - 84s 359ms/step - loss: 0.4667 - val_loss: 0.4624\n",
            "Epoch 5/10\n",
            "235/235 [==============================] - 97s 415ms/step - loss: 0.4596 - val_loss: 0.4564\n",
            "Epoch 6/10\n",
            "235/235 [==============================] - 110s 469ms/step - loss: 0.4545 - val_loss: 0.4519\n",
            "Epoch 7/10\n",
            "235/235 [==============================] - 101s 429ms/step - loss: 0.4502 - val_loss: 0.4481\n",
            "Epoch 8/10\n",
            "235/235 [==============================] - 75s 318ms/step - loss: 0.4461 - val_loss: 0.4440\n",
            "Epoch 9/10\n",
            "235/235 [==============================] - 73s 310ms/step - loss: 0.4424 - val_loss: 0.4401\n",
            "Epoch 10/10\n",
            "235/235 [==============================] - 73s 312ms/step - loss: 0.4388 - val_loss: 0.4364\n"
          ]
        }
      ],
      "source": [
        "history2=autoencoder.fit(x_train_noisy,x_train_noisy,validation_data=(x_test_noisy,x_test_noisy),epochs=10,batch_size=256)"
      ]
    },
    {
      "cell_type": "code",
      "execution_count": null,
      "id": "ee116213",
      "metadata": {
        "id": "ee116213",
        "outputId": "51e6c1be-8d51-46ec-eca1-7b58fd8045cf"
      },
      "outputs": [
        {
          "data": {
            "image/png": "[encoded data removed]",
            "text/plain": [
              "<Figure size 648x144 with 5 Axes>"
            ]
          },
          "metadata": {
            "needs_background": "light"
          },
          "output_type": "display_data"
        }
      ],
      "source": [
        "n=5\n",
        "plt.figure(figsize=(9,2))\n",
        "for i in range(n):\n",
        "    ax=plt.subplot(1,n,i+1)\n",
        "    plt.imshow(x_test_noisy[i].reshape(28,28),cmap='gray')\n",
        "    ax.axis('off')\n",
        "plt.show()"
      ]
    },
    {
      "cell_type": "code",
      "execution_count": null,
      "id": "011f6c3b",
      "metadata": {
        "id": "011f6c3b",
        "outputId": "6aa8b65b-bd48-4189-aa88-e72f49b2286a"
      },
      "outputs": [
        {
          "name": "stdout",
          "output_type": "stream",
          "text": [
            "313/313 [==============================] - 3s 11ms/step\n"
          ]
        },
        {
          "data": {
            "image/png": "[encoded data removed]",
            "text/plain": [
              "<Figure size 648x144 with 5 Axes>"
            ]
          },
          "metadata": {
            "needs_background": "light"
          },
          "output_type": "display_data"
        }
      ],
      "source": [
        "decoded_images=autoencoder.predict(x_test_noisy)\n",
        "n=5\n",
        "plt.figure(figsize=(9,2))\n",
        "for i in range(n):\n",
        "    ax=plt.subplot(1,n,i+1)\n",
        "    plt.imshow(decoded_images[i].reshape(28,28),cmap='gray')\n",
        "    ax.axis('off')\n",
        "plt.show()"
      ]
    },
    {
      "cell_type": "code",
      "execution_count": null,
      "id": "5498ed2e",
      "metadata": {
        "id": "5498ed2e",
        "outputId": "195447cd-25f5-456c-c758-30cc78b69670"
      },
      "outputs": [
        {
          "data": {
            "image/png": "[encoded data removed]",
            "text/plain": [
              "<Figure size 432x288 with 1 Axes>"
            ]
          },
          "metadata": {
            "needs_background": "light"
          },
          "output_type": "display_data"
        }
      ],
      "source": [
        "import matplotlib.pyplot as plt\n",
        "plt.plot(history2.history['loss'],label='training loss')\n",
        "plt.plot(history2.history['val_loss'],label='validation loss')\n",
        "plt.xlabel('epoch')\n",
        "plt.ylabel('loss')\n",
        "plt.title('loss graph')\n",
        "plt.show()"
      ]
    },
    {
      "cell_type": "code",
      "execution_count": null,
      "id": "f4798b4d",
      "metadata": {
        "id": "f4798b4d"
      },
      "outputs": [],
      "source": []
    }
  ],
  "metadata": {
    "kernelspec": {
      "display_name": "Python 3 (ipykernel)",
      "language": "python",
      "name": "python3"
    },
    "language_info": {
      "codemirror_mode": {
        "name": "ipython",
        "version": 3
      },
      "file_extension": ".py",
      "mimetype": "text/x-python",
      "name": "python",
      "nbconvert_exporter": "python",
      "pygments_lexer": "ipython3",
      "version": "3.9.12"
    },
    "colab": {
      "provenance": [],
      "include_colab_link": true
    }
  },
  "nbformat": 4,
  "nbformat_minor": 5
}